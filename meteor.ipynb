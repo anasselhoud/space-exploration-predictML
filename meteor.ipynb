{
 "metadata": {
  "language_info": {
   "codemirror_mode": {
    "name": "ipython",
    "version": 3
   },
   "file_extension": ".py",
   "mimetype": "text/x-python",
   "name": "python",
   "nbconvert_exporter": "python",
   "pygments_lexer": "ipython3",
   "version": "3.7.6-final"
  },
  "orig_nbformat": 2,
  "kernelspec": {
   "name": "python3",
   "display_name": "Python 3",
   "language": "python"
  }
 },
 "nbformat": 4,
 "nbformat_minor": 2,
 "cells": [
  {
   "cell_type": "code",
   "execution_count": 75,
   "metadata": {},
   "outputs": [],
   "source": [
    "import numpy as np \n",
    "import pandas as pd\n",
    "import matplotlib.pyplot as plt \n",
    "import tensorflow"
   ]
  },
  {
   "cell_type": "code",
   "execution_count": 76,
   "metadata": {},
   "outputs": [],
   "source": [
    "mt=pd.read_csv('data/meteorshowers.csv')\n",
    "cities=pd.read_csv('data/cities.csv')\n",
    "constellations=pd.read_csv('data/constellations.csv')\n",
    "moon_phases=pd.read_csv('data/moonphases.csv')"
   ]
  },
  {
   "cell_type": "code",
   "execution_count": 77,
   "metadata": {},
   "outputs": [
    {
     "output_type": "execute_result",
     "data": {
      "text/plain": [
       "           name   radiant bestmonth startmonth  startday  endmonth  endday  \\\n",
       "0        Lyrids      Lyra     april      april        21     april      22   \n",
       "1  Eta Aquarids  Aquarius       may      april        19       may      28   \n",
       "2      Orionids     Orion   october    october         2  november       7   \n",
       "3      Perseids   Perseus    august       july        14    august      24   \n",
       "4       Leonids       Leo  november   november         6  november      30   \n",
       "\n",
       "           hemisphere preferredhemisphere  \n",
       "0            northern            northern  \n",
       "1  northern, southern            southern  \n",
       "2  northern, southern  northern, southern  \n",
       "3            northern            northern  \n",
       "4  northern, southern  northern, southern  "
      ],
      "text/html": "<div>\n<style scoped>\n    .dataframe tbody tr th:only-of-type {\n        vertical-align: middle;\n    }\n\n    .dataframe tbody tr th {\n        vertical-align: top;\n    }\n\n    .dataframe thead th {\n        text-align: right;\n    }\n</style>\n<table border=\"1\" class=\"dataframe\">\n  <thead>\n    <tr style=\"text-align: right;\">\n      <th></th>\n      <th>name</th>\n      <th>radiant</th>\n      <th>bestmonth</th>\n      <th>startmonth</th>\n      <th>startday</th>\n      <th>endmonth</th>\n      <th>endday</th>\n      <th>hemisphere</th>\n      <th>preferredhemisphere</th>\n    </tr>\n  </thead>\n  <tbody>\n    <tr>\n      <th>0</th>\n      <td>Lyrids</td>\n      <td>Lyra</td>\n      <td>april</td>\n      <td>april</td>\n      <td>21</td>\n      <td>april</td>\n      <td>22</td>\n      <td>northern</td>\n      <td>northern</td>\n    </tr>\n    <tr>\n      <th>1</th>\n      <td>Eta Aquarids</td>\n      <td>Aquarius</td>\n      <td>may</td>\n      <td>april</td>\n      <td>19</td>\n      <td>may</td>\n      <td>28</td>\n      <td>northern, southern</td>\n      <td>southern</td>\n    </tr>\n    <tr>\n      <th>2</th>\n      <td>Orionids</td>\n      <td>Orion</td>\n      <td>october</td>\n      <td>october</td>\n      <td>2</td>\n      <td>november</td>\n      <td>7</td>\n      <td>northern, southern</td>\n      <td>northern, southern</td>\n    </tr>\n    <tr>\n      <th>3</th>\n      <td>Perseids</td>\n      <td>Perseus</td>\n      <td>august</td>\n      <td>july</td>\n      <td>14</td>\n      <td>august</td>\n      <td>24</td>\n      <td>northern</td>\n      <td>northern</td>\n    </tr>\n    <tr>\n      <th>4</th>\n      <td>Leonids</td>\n      <td>Leo</td>\n      <td>november</td>\n      <td>november</td>\n      <td>6</td>\n      <td>november</td>\n      <td>30</td>\n      <td>northern, southern</td>\n      <td>northern, southern</td>\n    </tr>\n  </tbody>\n</table>\n</div>"
     },
     "metadata": {},
     "execution_count": 77
    }
   ],
   "source": [
    "mt"
   ]
  },
  {
   "cell_type": "code",
   "execution_count": 78,
   "metadata": {},
   "outputs": [],
   "source": [
    "months={'january':1, 'february':2, 'march':3, 'april':4, 'may':5, 'june':6, 'july':7, 'august':8, 'september':9, 'october':10, 'november':11, 'december':12}"
   ]
  },
  {
   "cell_type": "code",
   "execution_count": 79,
   "metadata": {},
   "outputs": [],
   "source": [
    "mt.bestmonth=mt.bestmonth.map(months)\n",
    "mt.startmonth=mt.startmonth.map(months)"
   ]
  },
  {
   "cell_type": "code",
   "execution_count": 80,
   "metadata": {},
   "outputs": [],
   "source": [
    "mt.endmonth=mt.endmonth.map(months)\n",
    "moon_phases.month=moon_phases.month.map(months)\n",
    "constellations.bestmonth=constellations.bestmonth.map(months)"
   ]
  },
  {
   "cell_type": "code",
   "execution_count": 81,
   "metadata": {},
   "outputs": [],
   "source": [
    "mt['startdate']=pd.to_datetime(2020*10000+mt.startmonth*100+mt.startday, format='%Y%m%d')\n",
    "mt['enddate']=pd.to_datetime(2020*10000+mt.endmonth*100+mt.endday, format='%Y%m%d')"
   ]
  },
  {
   "cell_type": "code",
   "execution_count": 82,
   "metadata": {},
   "outputs": [],
   "source": [
    "moon_phases['date']=pd.to_datetime(2020*10000+moon_phases.month*100+moon_phases.month, format='%Y%m%d')"
   ]
  },
  {
   "cell_type": "code",
   "execution_count": 83,
   "metadata": {},
   "outputs": [
    {
     "output_type": "execute_result",
     "data": {
      "text/plain": [
       "     month  day      moonphase specialevent       date\n",
       "0        1    1            NaN          NaN 2020-01-01\n",
       "1        1    2  first quarter          NaN 2020-01-01\n",
       "2        1    3            NaN          NaN 2020-01-01\n",
       "3        1    4            NaN          NaN 2020-01-01\n",
       "4        1    5            NaN          NaN 2020-01-01\n",
       "..     ...  ...            ...          ...        ...\n",
       "361     12   27            NaN          NaN 2020-12-12\n",
       "362     12   28            NaN          NaN 2020-12-12\n",
       "363     12   29      full moon          NaN 2020-12-12\n",
       "364     12   30            NaN          NaN 2020-12-12\n",
       "365     12   31            NaN          NaN 2020-12-12\n",
       "\n",
       "[366 rows x 5 columns]"
      ],
      "text/html": "<div>\n<style scoped>\n    .dataframe tbody tr th:only-of-type {\n        vertical-align: middle;\n    }\n\n    .dataframe tbody tr th {\n        vertical-align: top;\n    }\n\n    .dataframe thead th {\n        text-align: right;\n    }\n</style>\n<table border=\"1\" class=\"dataframe\">\n  <thead>\n    <tr style=\"text-align: right;\">\n      <th></th>\n      <th>month</th>\n      <th>day</th>\n      <th>moonphase</th>\n      <th>specialevent</th>\n      <th>date</th>\n    </tr>\n  </thead>\n  <tbody>\n    <tr>\n      <th>0</th>\n      <td>1</td>\n      <td>1</td>\n      <td>NaN</td>\n      <td>NaN</td>\n      <td>2020-01-01</td>\n    </tr>\n    <tr>\n      <th>1</th>\n      <td>1</td>\n      <td>2</td>\n      <td>first quarter</td>\n      <td>NaN</td>\n      <td>2020-01-01</td>\n    </tr>\n    <tr>\n      <th>2</th>\n      <td>1</td>\n      <td>3</td>\n      <td>NaN</td>\n      <td>NaN</td>\n      <td>2020-01-01</td>\n    </tr>\n    <tr>\n      <th>3</th>\n      <td>1</td>\n      <td>4</td>\n      <td>NaN</td>\n      <td>NaN</td>\n      <td>2020-01-01</td>\n    </tr>\n    <tr>\n      <th>4</th>\n      <td>1</td>\n      <td>5</td>\n      <td>NaN</td>\n      <td>NaN</td>\n      <td>2020-01-01</td>\n    </tr>\n    <tr>\n      <th>...</th>\n      <td>...</td>\n      <td>...</td>\n      <td>...</td>\n      <td>...</td>\n      <td>...</td>\n    </tr>\n    <tr>\n      <th>361</th>\n      <td>12</td>\n      <td>27</td>\n      <td>NaN</td>\n      <td>NaN</td>\n      <td>2020-12-12</td>\n    </tr>\n    <tr>\n      <th>362</th>\n      <td>12</td>\n      <td>28</td>\n      <td>NaN</td>\n      <td>NaN</td>\n      <td>2020-12-12</td>\n    </tr>\n    <tr>\n      <th>363</th>\n      <td>12</td>\n      <td>29</td>\n      <td>full moon</td>\n      <td>NaN</td>\n      <td>2020-12-12</td>\n    </tr>\n    <tr>\n      <th>364</th>\n      <td>12</td>\n      <td>30</td>\n      <td>NaN</td>\n      <td>NaN</td>\n      <td>2020-12-12</td>\n    </tr>\n    <tr>\n      <th>365</th>\n      <td>12</td>\n      <td>31</td>\n      <td>NaN</td>\n      <td>NaN</td>\n      <td>2020-12-12</td>\n    </tr>\n  </tbody>\n</table>\n<p>366 rows × 5 columns</p>\n</div>"
     },
     "metadata": {},
     "execution_count": 83
    }
   ],
   "source": [
    "moon_phases"
   ]
  },
  {
   "cell_type": "code",
   "execution_count": 84,
   "metadata": {},
   "outputs": [],
   "source": [
    "hemispheres={'northern':0, 'southern':1, 'northern, southern':3}"
   ]
  },
  {
   "cell_type": "code",
   "execution_count": 85,
   "metadata": {},
   "outputs": [],
   "source": [
    "mt.hemisphere=mt.hemisphere.map(hemispheres)\n",
    "constellations.hemisphere=constellations.hemisphere.map(hemispheres)"
   ]
  },
  {
   "cell_type": "code",
   "execution_count": 86,
   "metadata": {},
   "outputs": [
    {
     "output_type": "execute_result",
     "data": {
      "text/plain": [
       "           name   radiant  bestmonth  startmonth  startday  endmonth  endday  \\\n",
       "0        Lyrids      Lyra          4           4        21         4      22   \n",
       "1  Eta Aquarids  Aquarius          5           4        19         5      28   \n",
       "2      Orionids     Orion         10          10         2        11       7   \n",
       "3      Perseids   Perseus          8           7        14         8      24   \n",
       "4       Leonids       Leo         11          11         6        11      30   \n",
       "\n",
       "   hemisphere preferredhemisphere  startdate    enddate  \n",
       "0           0            northern 2020-04-21 2020-04-22  \n",
       "1           3            southern 2020-04-19 2020-05-28  \n",
       "2           3  northern, southern 2020-10-02 2020-11-07  \n",
       "3           0            northern 2020-07-14 2020-08-24  \n",
       "4           3  northern, southern 2020-11-06 2020-11-30  "
      ],
      "text/html": "<div>\n<style scoped>\n    .dataframe tbody tr th:only-of-type {\n        vertical-align: middle;\n    }\n\n    .dataframe tbody tr th {\n        vertical-align: top;\n    }\n\n    .dataframe thead th {\n        text-align: right;\n    }\n</style>\n<table border=\"1\" class=\"dataframe\">\n  <thead>\n    <tr style=\"text-align: right;\">\n      <th></th>\n      <th>name</th>\n      <th>radiant</th>\n      <th>bestmonth</th>\n      <th>startmonth</th>\n      <th>startday</th>\n      <th>endmonth</th>\n      <th>endday</th>\n      <th>hemisphere</th>\n      <th>preferredhemisphere</th>\n      <th>startdate</th>\n      <th>enddate</th>\n    </tr>\n  </thead>\n  <tbody>\n    <tr>\n      <th>0</th>\n      <td>Lyrids</td>\n      <td>Lyra</td>\n      <td>4</td>\n      <td>4</td>\n      <td>21</td>\n      <td>4</td>\n      <td>22</td>\n      <td>0</td>\n      <td>northern</td>\n      <td>2020-04-21</td>\n      <td>2020-04-22</td>\n    </tr>\n    <tr>\n      <th>1</th>\n      <td>Eta Aquarids</td>\n      <td>Aquarius</td>\n      <td>5</td>\n      <td>4</td>\n      <td>19</td>\n      <td>5</td>\n      <td>28</td>\n      <td>3</td>\n      <td>southern</td>\n      <td>2020-04-19</td>\n      <td>2020-05-28</td>\n    </tr>\n    <tr>\n      <th>2</th>\n      <td>Orionids</td>\n      <td>Orion</td>\n      <td>10</td>\n      <td>10</td>\n      <td>2</td>\n      <td>11</td>\n      <td>7</td>\n      <td>3</td>\n      <td>northern, southern</td>\n      <td>2020-10-02</td>\n      <td>2020-11-07</td>\n    </tr>\n    <tr>\n      <th>3</th>\n      <td>Perseids</td>\n      <td>Perseus</td>\n      <td>8</td>\n      <td>7</td>\n      <td>14</td>\n      <td>8</td>\n      <td>24</td>\n      <td>0</td>\n      <td>northern</td>\n      <td>2020-07-14</td>\n      <td>2020-08-24</td>\n    </tr>\n    <tr>\n      <th>4</th>\n      <td>Leonids</td>\n      <td>Leo</td>\n      <td>11</td>\n      <td>11</td>\n      <td>6</td>\n      <td>11</td>\n      <td>30</td>\n      <td>3</td>\n      <td>northern, southern</td>\n      <td>2020-11-06</td>\n      <td>2020-11-30</td>\n    </tr>\n  </tbody>\n</table>\n</div>"
     },
     "metadata": {},
     "execution_count": 86
    }
   ],
   "source": [
    "mt"
   ]
  },
  {
   "cell_type": "code",
   "execution_count": 87,
   "metadata": {},
   "outputs": [],
   "source": [
    "phases={'new moon':0, 'first quarter':0.5, 'third quarter':0.5, 'full moon':1.0}"
   ]
  },
  {
   "cell_type": "code",
   "execution_count": 88,
   "metadata": {},
   "outputs": [],
   "source": [
    "moon_phases['percentage']=moon_phases.moonphase.map(phases)"
   ]
  },
  {
   "cell_type": "code",
   "execution_count": 89,
   "metadata": {},
   "outputs": [],
   "source": [
    "moon_phases = moon_phases.drop(['day','month','moonphase','specialevent'],axis=1)"
   ]
  },
  {
   "cell_type": "code",
   "execution_count": 90,
   "metadata": {},
   "outputs": [],
   "source": [
    "lastPhase = 0\n",
    "\n",
    "for index, row in moon_phases.iterrows():\n",
    "    if pd.isnull(row['percentage']):\n",
    "        moon_phases.at[index, 'percentage'] = lastPhase\n",
    "    else:\n",
    "        lastPhase = row['percentage']"
   ]
  },
  {
   "cell_type": "code",
   "execution_count": 91,
   "metadata": {},
   "outputs": [
    {
     "output_type": "stream",
     "name": "stdout",
     "text": [
      "<class 'pandas.core.frame.DataFrame'>\nRangeIndex: 366 entries, 0 to 365\nData columns (total 2 columns):\n #   Column      Non-Null Count  Dtype         \n---  ------      --------------  -----         \n 0   date        366 non-null    datetime64[ns]\n 1   percentage  366 non-null    float64       \ndtypes: datetime64[ns](1), float64(1)\nmemory usage: 5.8 KB\n"
     ]
    }
   ],
   "source": [
    "moon_phases.info()"
   ]
  },
  {
   "cell_type": "code",
   "execution_count": 92,
   "metadata": {},
   "outputs": [],
   "source": [
    "mt = mt.drop(['startmonth','startday','endmonth','endday','hemisphere'],axis=1)"
   ]
  },
  {
   "cell_type": "code",
   "execution_count": 93,
   "metadata": {},
   "outputs": [
    {
     "output_type": "execute_result",
     "data": {
      "text/plain": [
       "          date  percentage\n",
       "0   2020-01-01         0.0\n",
       "1   2020-01-01         0.5\n",
       "2   2020-01-01         0.5\n",
       "3   2020-01-01         0.5\n",
       "4   2020-01-01         0.5\n",
       "..         ...         ...\n",
       "361 2020-12-12         0.5\n",
       "362 2020-12-12         0.5\n",
       "363 2020-12-12         1.0\n",
       "364 2020-12-12         1.0\n",
       "365 2020-12-12         1.0\n",
       "\n",
       "[366 rows x 2 columns]"
      ],
      "text/html": "<div>\n<style scoped>\n    .dataframe tbody tr th:only-of-type {\n        vertical-align: middle;\n    }\n\n    .dataframe tbody tr th {\n        vertical-align: top;\n    }\n\n    .dataframe thead th {\n        text-align: right;\n    }\n</style>\n<table border=\"1\" class=\"dataframe\">\n  <thead>\n    <tr style=\"text-align: right;\">\n      <th></th>\n      <th>date</th>\n      <th>percentage</th>\n    </tr>\n  </thead>\n  <tbody>\n    <tr>\n      <th>0</th>\n      <td>2020-01-01</td>\n      <td>0.0</td>\n    </tr>\n    <tr>\n      <th>1</th>\n      <td>2020-01-01</td>\n      <td>0.5</td>\n    </tr>\n    <tr>\n      <th>2</th>\n      <td>2020-01-01</td>\n      <td>0.5</td>\n    </tr>\n    <tr>\n      <th>3</th>\n      <td>2020-01-01</td>\n      <td>0.5</td>\n    </tr>\n    <tr>\n      <th>4</th>\n      <td>2020-01-01</td>\n      <td>0.5</td>\n    </tr>\n    <tr>\n      <th>...</th>\n      <td>...</td>\n      <td>...</td>\n    </tr>\n    <tr>\n      <th>361</th>\n      <td>2020-12-12</td>\n      <td>0.5</td>\n    </tr>\n    <tr>\n      <th>362</th>\n      <td>2020-12-12</td>\n      <td>0.5</td>\n    </tr>\n    <tr>\n      <th>363</th>\n      <td>2020-12-12</td>\n      <td>1.0</td>\n    </tr>\n    <tr>\n      <th>364</th>\n      <td>2020-12-12</td>\n      <td>1.0</td>\n    </tr>\n    <tr>\n      <th>365</th>\n      <td>2020-12-12</td>\n      <td>1.0</td>\n    </tr>\n  </tbody>\n</table>\n<p>366 rows × 2 columns</p>\n</div>"
     },
     "metadata": {},
     "execution_count": 93
    }
   ],
   "source": [
    "moon_phases"
   ]
  },
  {
   "cell_type": "code",
   "execution_count": 107,
   "metadata": {},
   "outputs": [],
   "source": [
    "def predict_best_meteor_shower_viewing(city):\n",
    "    meteor_shower_string = \"\"\n",
    "\n",
    "    if city not in cities.values:\n",
    "        meteor_shower_string = \"Unfotunately, \"+ city + \"isn't available for prediction now!\"\n",
    "        return meteor_shower_string\n",
    "\n",
    "    latitude = cities.loc[cities['city'] == city, 'latitude'].iloc[0]\n",
    "    constellation_list = constellations.loc[(constellations['latitudestart']>=latitude) & (constellations['latitudeend']<=latitude), 'constellation'].to_list()\n",
    "\n",
    "    if not constellation_list:\n",
    "        meteor_shower_string = \"Unfotunately, there are no meteor shower viewable from \"+ city + \".\"\n",
    "        return meteor_shower_string\n",
    "\n",
    "    for constellation in constellation_list:\n",
    "        meteor_shower = mt.loc[mt['radiant'] == constellation, 'name'].iloc[0]\n",
    "        meteor_shower_startdate = mt.loc[mt['radiant'] == constellation, 'startdate'].iloc[0]\n",
    "        meteor_shower_enddate = mt.loc[mt['radiant'] == constellation, 'enddate'].iloc[0]\n",
    "        moon_phases_list = moon_phases.loc[(moon_phases['date'] >= meteor_shower_startdate) & (moon_phases['date'] <= meteor_shower_enddate)]\n",
    "        \n",
    "        if moon_phases_list: \n",
    "            best_moon_date = moon_phases_list.loc[moon_phases_list['percentage'].idxmin()]['date']\n",
    "\n",
    "        meteor_shower_string += meteor_shower + \" is best seen if you look towards the \" + constellation + \" constellation on \" + best_moon_date.to_pydatetime().strftime(\"%B %d, %Y\") + \"./n\"\n",
    "\n",
    "        return meteor_shower_string\n",
    "\n",
    "    "
   ]
  },
  {
   "cell_type": "code",
   "execution_count": 109,
   "metadata": {},
   "outputs": [
    {
     "output_type": "error",
     "ename": "ValueError",
     "evalue": "The truth value of a DataFrame is ambiguous. Use a.empty, a.bool(), a.item(), a.any() or a.all().",
     "traceback": [
      "\u001b[0;31m---------------------------------------------------------------------------\u001b[0m",
      "\u001b[0;31mValueError\u001b[0m                                Traceback (most recent call last)",
      "\u001b[0;32m<ipython-input-109-eedb15a04b8f>\u001b[0m in \u001b[0;36m<module>\u001b[0;34m\u001b[0m\n\u001b[0;32m----> 1\u001b[0;31m \u001b[0mprint\u001b[0m\u001b[0;34m(\u001b[0m\u001b[0mpredict_best_meteor_shower_viewing\u001b[0m\u001b[0;34m(\u001b[0m\u001b[0;34m\"Rabat\"\u001b[0m\u001b[0;34m)\u001b[0m\u001b[0;34m)\u001b[0m\u001b[0;34m\u001b[0m\u001b[0;34m\u001b[0m\u001b[0m\n\u001b[0m",
      "\u001b[0;32m<ipython-input-107-753fc3221e75>\u001b[0m in \u001b[0;36mpredict_best_meteor_shower_viewing\u001b[0;34m(city)\u001b[0m\n\u001b[1;32m     19\u001b[0m         \u001b[0mmoon_phases_list\u001b[0m \u001b[0;34m=\u001b[0m \u001b[0mmoon_phases\u001b[0m\u001b[0;34m.\u001b[0m\u001b[0mloc\u001b[0m\u001b[0;34m[\u001b[0m\u001b[0;34m(\u001b[0m\u001b[0mmoon_phases\u001b[0m\u001b[0;34m[\u001b[0m\u001b[0;34m'date'\u001b[0m\u001b[0;34m]\u001b[0m \u001b[0;34m>=\u001b[0m \u001b[0mmeteor_shower_startdate\u001b[0m\u001b[0;34m)\u001b[0m \u001b[0;34m&\u001b[0m \u001b[0;34m(\u001b[0m\u001b[0mmoon_phases\u001b[0m\u001b[0;34m[\u001b[0m\u001b[0;34m'date'\u001b[0m\u001b[0;34m]\u001b[0m \u001b[0;34m<=\u001b[0m \u001b[0mmeteor_shower_enddate\u001b[0m\u001b[0;34m)\u001b[0m\u001b[0;34m]\u001b[0m\u001b[0;34m\u001b[0m\u001b[0;34m\u001b[0m\u001b[0m\n\u001b[1;32m     20\u001b[0m \u001b[0;34m\u001b[0m\u001b[0m\n\u001b[0;32m---> 21\u001b[0;31m         \u001b[0;32mif\u001b[0m \u001b[0mmoon_phases_list\u001b[0m\u001b[0;34m:\u001b[0m\u001b[0;34m\u001b[0m\u001b[0;34m\u001b[0m\u001b[0m\n\u001b[0m\u001b[1;32m     22\u001b[0m             \u001b[0mbest_moon_date\u001b[0m \u001b[0;34m=\u001b[0m \u001b[0mmoon_phases_list\u001b[0m\u001b[0;34m.\u001b[0m\u001b[0mloc\u001b[0m\u001b[0;34m[\u001b[0m\u001b[0mmoon_phases_list\u001b[0m\u001b[0;34m[\u001b[0m\u001b[0;34m'percentage'\u001b[0m\u001b[0;34m]\u001b[0m\u001b[0;34m.\u001b[0m\u001b[0midxmin\u001b[0m\u001b[0;34m(\u001b[0m\u001b[0;34m)\u001b[0m\u001b[0;34m]\u001b[0m\u001b[0;34m[\u001b[0m\u001b[0;34m'date'\u001b[0m\u001b[0;34m]\u001b[0m\u001b[0;34m\u001b[0m\u001b[0;34m\u001b[0m\u001b[0m\n\u001b[1;32m     23\u001b[0m \u001b[0;34m\u001b[0m\u001b[0m\n",
      "\u001b[0;32m~/anaconda3/lib/python3.7/site-packages/pandas/core/generic.py\u001b[0m in \u001b[0;36m__nonzero__\u001b[0;34m(self)\u001b[0m\n\u001b[1;32m   1477\u001b[0m     \u001b[0;32mdef\u001b[0m \u001b[0m__nonzero__\u001b[0m\u001b[0;34m(\u001b[0m\u001b[0mself\u001b[0m\u001b[0;34m)\u001b[0m\u001b[0;34m:\u001b[0m\u001b[0;34m\u001b[0m\u001b[0;34m\u001b[0m\u001b[0m\n\u001b[1;32m   1478\u001b[0m         raise ValueError(\n\u001b[0;32m-> 1479\u001b[0;31m             \u001b[0;34mf\"The truth value of a {type(self).__name__} is ambiguous. \"\u001b[0m\u001b[0;34m\u001b[0m\u001b[0;34m\u001b[0m\u001b[0m\n\u001b[0m\u001b[1;32m   1480\u001b[0m             \u001b[0;34m\"Use a.empty, a.bool(), a.item(), a.any() or a.all().\"\u001b[0m\u001b[0;34m\u001b[0m\u001b[0;34m\u001b[0m\u001b[0m\n\u001b[1;32m   1481\u001b[0m         )\n",
      "\u001b[0;31mValueError\u001b[0m: The truth value of a DataFrame is ambiguous. Use a.empty, a.bool(), a.item(), a.any() or a.all()."
     ]
    }
   ],
   "source": [
    "print(predict_best_meteor_shower_viewing(\"Rabat\"))"
   ]
  },
  {
   "cell_type": "code",
   "execution_count": null,
   "metadata": {},
   "outputs": [],
   "source": []
  }
 ]
}